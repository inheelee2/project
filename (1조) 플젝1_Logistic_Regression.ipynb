{
 "cells": [
  {
   "cell_type": "markdown",
   "metadata": {
    "colab_type": "text",
    "id": "7ugAEJMHBK2z"
   },
   "source": [
    "## 개요\n",
    "이 프로젝트에선, 현재 출시되어 관객에게 상영한 영화의 줄거리, 감독, 관람객 평 등의 데이터를 분석하여 추후 새로운 영화가 개봉할 때 해당 영화의 평점을 학습한 데이터를 바탕으로 예측해 내는 것을 주 목표로 합니다. 이를 위해서 필요한 기능은:\n",
    "\n",
    "- [네이버 영화](https://movie.naver.com)에서 영화 데이터를 긁어와 데이터 시트에 정리\n",
    "- 이렇게 정리한 데이터를 토큰화: 머신러닝 알고리즘이 알아듣기 쉽게, 정확하게 값을 낼 수 있는 형식으로 변환\n",
    "- 머신러닝 알고리즘을 구축하여 영화 평점을 예측해내는 모델 개발\n",
    "\n",
    "정도가 됩니다. \n",
    "\n",
    "이러한 프로젝트를 구상하게 된 계기는, Elice의 인공지능/머신러닝 기초 강의의 Naive-Beyes 알고리즘을 사용하여 영화평 감정분석 알고리즘을 만드는 방법을 배운 이후로, 감정의 긍정/부정 여부 뿐만이 아닌 영화의 재미와 같은 것도 머신러닝 알고리즘이 예측해낼 수 있지 않을까? 라는 일종의 실험으로 구상한 것이 이 프로젝트의 시작이었습니다. \n",
    "\n",
    " **주의:**\n",
    "\n",
    "현재 데이터 마이닝 부분은 구현되어 있으나, 머신러닝 알고리즘 부분이 완벽하지 않은 관계로, 아직 원활히 구동되지 않을 수 있습니다. 양해 부탁드립니다."
   ]
  },
  {
   "cell_type": "markdown",
   "metadata": {
    "colab_type": "text",
    "id": "L370AR5RBK20"
   },
   "source": [
    "## 데이터 크롤러\n",
    "크롤러에는 크게 세 가지 모듈을 사용합니다. 괄호 안에 표시된 모듈 이름을 모두 Python의 `pip` 모듈을 사용하여 설치를 진행하셔야 합니다. \n",
    "\n",
    "- `requests`: Python을 통하여 웹 사이트를 불러오는 데 사용합니다. 일종의 코딩에 쓰이는 브라우저라고 생각하시면 됩니다.\n",
    "- `bs4 (BeautifulSoup)`: 위의 Requests를 통해 불러온 웹 페이지를 Python과 유저가 알아듣기 쉽게 트리 형식으로 변환해 주는 강력한 툴입니다. \n",
    "- `pandas`: Python에서 사용할 수 있는 강력한 데이터프레임 모듈입니다. 빅 데이터를 처리하는 데 매우 유용합니다. \n",
    "\n",
    "이 두 모듈을 사용하여 네이버 영화에서 영화의 정보를 긁어오는 크롤러를 만들어 봅시다. "
   ]
  },
  {
   "cell_type": "code",
   "execution_count": 1,
   "metadata": {
    "colab": {},
    "colab_type": "code",
    "id": "MTvhotYV369U"
   },
   "outputs": [],
   "source": [
    "#!pip install konlp"
   ]
  },
  {
   "cell_type": "code",
   "execution_count": null,
   "metadata": {},
   "outputs": [],
   "source": []
  },
  {
   "cell_type": "code",
   "execution_count": 2,
   "metadata": {
    "colab": {},
    "colab_type": "code",
    "id": "QwvShhMQBK21"
   },
   "outputs": [],
   "source": [
    "from collections import defaultdict\n",
    "from glob import glob\n",
    "from bs4 import BeautifulSoup\n",
    "from lxml import html\n",
    "import os\n",
    "import re\n",
    "import time\n",
    "import numpy as np\n",
    "import pandas as pd\n",
    "import requests\n",
    "#import utils\n",
    "import requests\n",
    "import pandas as pd\n",
    "import urllib.parse\n",
    "import time\n",
    "import torch\n",
    "import datetime\n",
    "import random\n",
    "\n",
    "import tensorflow as tf\n",
    "from konlpy.tag import Twitter\n",
    "import numpy as np\n",
    "import gensim\n"
   ]
  },
  {
   "cell_type": "code",
   "execution_count": 3,
   "metadata": {
    "colab": {},
    "colab_type": "code",
    "id": "CJ9RlBWyBK3B"
   },
   "outputs": [],
   "source": [
    "BASEURL     = 'http://movie.naver.com/movie/point/af/list.nhn'\n",
    "RATINGURL   = BASEURL + '?&page=%s'\n",
    "MOVIEURL    = BASEURL + '?st=mcode&target=after&sword=%s&page=%s'\n",
    "DATADIR     = 'data/ratings'\n",
    "INDEXFILE   = 'index.txt'\n",
    "TMPFILE     = 'data/ratings_all.txt'\n",
    "RATINGSFILE = 'data/ratings.txt'\n",
    "\n",
    "SEED        = 1234\n",
    "SLEEP       = 600\n",
    "NDOCS       = 200000\n",
    "\n",
    "extract_nums = lambda s: re.search('\\d+', s).group(0)\n",
    "sanitize_str = lambda s: s.strip()"
   ]
  },
  {
   "cell_type": "code",
   "execution_count": 4,
   "metadata": {
    "colab": {},
    "colab_type": "code",
    "id": "G_limmkaBK3D"
   },
   "outputs": [],
   "source": [
    "source = BeautifulSoup(requests.get(BASEURL).content, 'html.parser')\n",
    "alltables = source.find_all(\"table\")\n",
    "table = source.find(\"table\", {\"id\":\"thetable\"})"
   ]
  },
  {
   "cell_type": "code",
   "execution_count": 5,
   "metadata": {
    "colab": {
     "base_uri": "https://localhost:8080/",
     "height": 179
    },
    "colab_type": "code",
    "id": "FA2SE8uGBK3F",
    "outputId": "7feb90ce-75ea-44c3-8532-681e994d0ef1",
    "scrolled": true
   },
   "outputs": [],
   "source": [
    "# %%time\n",
    "# moviecomments = pd.DataFrame(columns=['ID', 'TITLE', 'POINT', \"COMMENT\"])\n",
    "# data = []\n",
    "\n",
    "# for page in range(1, 10001):\n",
    "\n",
    "#     RATINGURL = BASEURL + '?&page='+str(page)\n",
    "#     if page % 200 == 0:\n",
    "#         dfcomment = pd.DataFrame(data, columns=['ID', 'TITLE', 'POINT', \"COMMENT\"])\n",
    "#         moviecomments = pd.concat([moviecomments, dfcomment])\n",
    "#         print(RATINGURL, len(data), len(moviecomments))\n",
    "#         data = []\n",
    "    \n",
    "#     source = BeautifulSoup(requests.get(RATINGURL).content, 'html.parser')\n",
    "    \n",
    "#     for tr in source.find_all('tr')[1:]:\n",
    "#         try:\n",
    "#             tds = tr.find_all('td')\n",
    "#             iid = tds[0].text\n",
    "#             title = tds[1].find(\"a\").text\n",
    "#             point = tds[1].find(\"div\").text.replace(\"\\n별점 - 총 10점 중\", \"\").replace(\"\\n\", \"\")\n",
    "#             contents = tds[1].text.strip().split('\\n')[4]\n",
    "#             data.append([iid, title, point, contents])\n",
    "#             continue\n",
    "#         except:\n",
    "#             print(\"Error Pass!!\")\n",
    "#     time.sleep(0.1)\n",
    "    \n",
    "# moviecomments.to_csv('naver.csv', sep=',')    "
   ]
  },
  {
   "cell_type": "code",
   "execution_count": 6,
   "metadata": {},
   "outputs": [],
   "source": [
    "def read_data(filename):\n",
    "    with open(filename, 'r') as f:\n",
    "        data = [line.split('\\t') for line in f.read().splitlines()]\n",
    "        data = data[1:]   # header 제외\n",
    "    return data\n"
   ]
  },
  {
   "cell_type": "code",
   "execution_count": 7,
   "metadata": {
    "scrolled": true
   },
   "outputs": [],
   "source": [
    "dfcomment = pd.read_csv('naver.csv', sep=',')"
   ]
  },
  {
   "cell_type": "code",
   "execution_count": 8,
   "metadata": {
    "colab": {},
    "colab_type": "code",
    "id": "MMtuXgs3BK3G"
   },
   "outputs": [],
   "source": [
    "moviecomments = dfcomment.copy()"
   ]
  },
  {
   "cell_type": "code",
   "execution_count": 9,
   "metadata": {
    "scrolled": true
   },
   "outputs": [],
   "source": [
    "moviecomments = moviecomments[moviecomments['POINT'].isin(['0', '1', '2', '3', '4', '5', '6', '7', '8', '9', '10'])]"
   ]
  },
  {
   "cell_type": "code",
   "execution_count": 10,
   "metadata": {
    "colab": {},
    "colab_type": "code",
    "id": "H-a6YzSHBK3I",
    "scrolled": true
   },
   "outputs": [],
   "source": [
    "moviecomments['POINT'] = moviecomments['POINT'].astype(int)\n",
    "moviecomments['Y'] = -1\n",
    "moviecomments.loc[moviecomments['POINT']>=9, \"Y\"] = 1\n",
    "moviecomments.loc[moviecomments['POINT']<=4, \"Y\"] = 0"
   ]
  },
  {
   "cell_type": "markdown",
   "metadata": {
    "colab_type": "text",
    "id": "asIwVCLhBK3K"
   },
   "source": [
    "### 중립은 제거, 긍정과 부정 리뷰만 데이터로 사용"
   ]
  },
  {
   "cell_type": "code",
   "execution_count": 11,
   "metadata": {
    "colab": {},
    "colab_type": "code",
    "id": "ykWMceZlBK3K"
   },
   "outputs": [],
   "source": [
    "moviecomments = moviecomments[moviecomments['Y']>=0]"
   ]
  },
  {
   "cell_type": "code",
   "execution_count": 12,
   "metadata": {
    "colab": {
     "base_uri": "https://localhost:8080/",
     "height": 255
    },
    "colab_type": "code",
    "id": "56nt400WBK3M",
    "outputId": "bd9ebbab-9d93-4156-e61a-42c252d9136c"
   },
   "outputs": [
    {
     "data": {
      "text/html": [
       "<div>\n",
       "<style scoped>\n",
       "    .dataframe tbody tr th:only-of-type {\n",
       "        vertical-align: middle;\n",
       "    }\n",
       "\n",
       "    .dataframe tbody tr th {\n",
       "        vertical-align: top;\n",
       "    }\n",
       "\n",
       "    .dataframe thead th {\n",
       "        text-align: right;\n",
       "    }\n",
       "</style>\n",
       "<table border=\"1\" class=\"dataframe\">\n",
       "  <thead>\n",
       "    <tr style=\"text-align: right;\">\n",
       "      <th></th>\n",
       "      <th>Unnamed: 0</th>\n",
       "      <th>ID</th>\n",
       "      <th>TITLE</th>\n",
       "      <th>POINT</th>\n",
       "      <th>COMMENT</th>\n",
       "      <th>Y</th>\n",
       "    </tr>\n",
       "  </thead>\n",
       "  <tbody>\n",
       "    <tr>\n",
       "      <th>0</th>\n",
       "      <td>0</td>\n",
       "      <td>16905147</td>\n",
       "      <td>어쌔신 걸스</td>\n",
       "      <td>1</td>\n",
       "      <td>감독새끼 집주소가 시급하다. 문재인이 지 페북에 쳐올린 근친야동이 더 잼날듯.</td>\n",
       "      <td>0</td>\n",
       "    </tr>\n",
       "    <tr>\n",
       "      <th>1</th>\n",
       "      <td>1</td>\n",
       "      <td>16905146</td>\n",
       "      <td>사랑하기 때문에</td>\n",
       "      <td>10</td>\n",
       "      <td>NaN</td>\n",
       "      <td>1</td>\n",
       "    </tr>\n",
       "    <tr>\n",
       "      <th>2</th>\n",
       "      <td>2</td>\n",
       "      <td>16905145</td>\n",
       "      <td>셰이프 오브 워터: 사랑의 모양</td>\n",
       "      <td>10</td>\n",
       "      <td>솔직히 좀 불쾌할걸 예상했는데 그럴생각 1도없이 완전히 매료되어버렸다... 그나저나...</td>\n",
       "      <td>1</td>\n",
       "    </tr>\n",
       "    <tr>\n",
       "      <th>3</th>\n",
       "      <td>3</td>\n",
       "      <td>16905144</td>\n",
       "      <td>들어는 봤니? 모건 부부</td>\n",
       "      <td>10</td>\n",
       "      <td>오랜만에 넘 재밌게 본 로맨틱코미디 영화네요!뉴욕과 시골을 넘나드는 좀 어이없으면서...</td>\n",
       "      <td>1</td>\n",
       "    </tr>\n",
       "    <tr>\n",
       "      <th>4</th>\n",
       "      <td>4</td>\n",
       "      <td>16905143</td>\n",
       "      <td>침입자</td>\n",
       "      <td>1</td>\n",
       "      <td>기대 안하고 봤는데 기대 이하였음..</td>\n",
       "      <td>0</td>\n",
       "    </tr>\n",
       "  </tbody>\n",
       "</table>\n",
       "</div>"
      ],
      "text/plain": [
       "   Unnamed: 0        ID              TITLE  POINT  \\\n",
       "0           0  16905147             어쌔신 걸스      1   \n",
       "1           1  16905146           사랑하기 때문에     10   \n",
       "2           2  16905145  셰이프 오브 워터: 사랑의 모양     10   \n",
       "3           3  16905144      들어는 봤니? 모건 부부     10   \n",
       "4           4  16905143                침입자      1   \n",
       "\n",
       "                                             COMMENT  Y  \n",
       "0       감독새끼 집주소가 시급하다. 문재인이 지 페북에 쳐올린 근친야동이 더 잼날듯.   0  \n",
       "1                                                NaN  1  \n",
       "2  솔직히 좀 불쾌할걸 예상했는데 그럴생각 1도없이 완전히 매료되어버렸다... 그나저나...  1  \n",
       "3  오랜만에 넘 재밌게 본 로맨틱코미디 영화네요!뉴욕과 시골을 넘나드는 좀 어이없으면서...  1  \n",
       "4                              기대 안하고 봤는데 기대 이하였음..   0  "
      ]
     },
     "execution_count": 12,
     "metadata": {},
     "output_type": "execute_result"
    }
   ],
   "source": [
    "moviecomments.head()"
   ]
  },
  {
   "cell_type": "markdown",
   "metadata": {
    "colab_type": "text",
    "id": "b4dOXRZaBK3O"
   },
   "source": [
    "### 리뷰 문장 추출"
   ]
  },
  {
   "cell_type": "code",
   "execution_count": 13,
   "metadata": {
    "colab": {
     "base_uri": "https://localhost:8080/",
     "height": 215
    },
    "colab_type": "code",
    "id": "FskvmD0IBK3P",
    "outputId": "134bbe42-cd77-474e-9059-9ae5f04c6aab"
   },
   "outputs": [
    {
     "data": {
      "text/plain": [
       "0         감독새끼 집주소가 시급하다. 문재인이 지 페북에 쳐올린 근친야동이 더 잼날듯. \n",
       "1                                                  NaN\n",
       "2    솔직히 좀 불쾌할걸 예상했는데 그럴생각 1도없이 완전히 매료되어버렸다... 그나저나...\n",
       "3    오랜만에 넘 재밌게 본 로맨틱코미디 영화네요!뉴욕과 시골을 넘나드는 좀 어이없으면서...\n",
       "4                                기대 안하고 봤는데 기대 이하였음.. \n",
       "5                              그때의 감동 팬들을 생각하는 마음과 교감 \n",
       "6                                                  NaN\n",
       "7             다른 세대의 편안한 공감대 뻔한데 그저 흐뭇하다 힐링되는 동화같은 영화 \n",
       "8                                               ..... \n",
       "9                                                  NaN\n",
       "Name: COMMENT, dtype: object"
      ]
     },
     "execution_count": 13,
     "metadata": {},
     "output_type": "execute_result"
    }
   ],
   "source": [
    "sentences = moviecomments['COMMENT']\n",
    "sentences[:10]"
   ]
  },
  {
   "cell_type": "code",
   "execution_count": 14,
   "metadata": {
    "colab": {},
    "colab_type": "code",
    "id": "z-JuGjQdtdGr"
   },
   "outputs": [],
   "source": [
    "# 데이터 전처리\n",
    "def preprocessor(text):\n",
    "    #특수기호, hTML 태그 등 제거 (단 이모티콘은 남겨둠)\n",
    "    text = re.sub('[^>]*>', '', text)\n",
    "    emoticons = re.findall('(?::|;|=)(?:-)?(?:\\)|\\(|D|P)|\\^.?\\^', text)\n",
    "    text = re.sub('[\\W]+', ' ', text.lower()) + ' '.join(emoticons).replace('-', '')\n",
    "    return text"
   ]
  },
  {
   "cell_type": "code",
   "execution_count": 15,
   "metadata": {
    "colab": {
     "base_uri": "https://localhost:8080/",
     "height": 125
    },
    "colab_type": "code",
    "id": "pB2TkiFRx4P9",
    "outputId": "63fffc03-c970-487d-de5e-3c2d5153168d"
   },
   "outputs": [
    {
     "data": {
      "text/plain": [
       "0         감독새끼 집주소가 시급하다. 문재인이 지 페북에 쳐올린 근친야동이 더 잼날듯. \n",
       "1                                                  NaN\n",
       "2    솔직히 좀 불쾌할걸 예상했는데 그럴생각 1도없이 완전히 매료되어버렸다... 그나저나...\n",
       "3    오랜만에 넘 재밌게 본 로맨틱코미디 영화네요!뉴욕과 시골을 넘나드는 좀 어이없으면서...\n",
       "4                                기대 안하고 봤는데 기대 이하였음.. \n",
       "Name: COMMENT, dtype: object"
      ]
     },
     "execution_count": 15,
     "metadata": {},
     "output_type": "execute_result"
    }
   ],
   "source": [
    "sentences[:5]"
   ]
  },
  {
   "cell_type": "code",
   "execution_count": 16,
   "metadata": {},
   "outputs": [],
   "source": [
    "moviecomments = moviecomments[~moviecomments['COMMENT'].isnull()]"
   ]
  },
  {
   "cell_type": "code",
   "execution_count": 17,
   "metadata": {
    "colab": {
     "base_uri": "https://localhost:8080/",
     "height": 35
    },
    "colab_type": "code",
    "id": "3hzt1AnztdDN",
    "outputId": "4ef69efc-13d8-442a-cc4d-1400dbae363d",
    "scrolled": true
   },
   "outputs": [],
   "source": [
    "from time import time\n",
    "import re\n",
    "\n",
    "# stime = time()\n",
    "# sentences = sentences.apply(preprocessor)\n",
    "\n",
    "# print('전처리 처리시간 [%d]'%(time()-stime))\n"
   ]
  },
  {
   "cell_type": "code",
   "execution_count": 18,
   "metadata": {
    "colab": {},
    "colab_type": "code",
    "id": "kmkmbhmEywHt"
   },
   "outputs": [],
   "source": [
    "from nltk.stem.porter import PorterStemmer\n",
    "from nltk.corpus import stopwords\n",
    "\n",
    "porter = PorterStemmer()\n",
    "#stop = stopwords.words('Korean')\n",
    "\n",
    "def tokenizer(text):\n",
    "    return text.split()\n",
    "\n",
    "def  tokenizer_porter(text):\n",
    "    return [porter.stem(word) for word in text.split()]\n",
    "\n",
    "\n",
    "  \n"
   ]
  },
  {
   "cell_type": "code",
   "execution_count": 19,
   "metadata": {},
   "outputs": [
    {
     "name": "stderr",
     "output_type": "stream",
     "text": [
      "C:\\ProgramData\\Anaconda3\\lib\\site-packages\\sklearn\\model_selection\\_split.py:2179: FutureWarning: From version 0.21, test_size will always complement train_size unless both are specified.\n",
      "  FutureWarning)\n"
     ]
    }
   ],
   "source": [
    "from sklearn.model_selection import train_test_split\n",
    "\n",
    "x_train, x_test, y_train, y_test = train_test_split(moviecomments['COMMENT'], moviecomments['Y'],train_size=0.7, random_state=1, shuffle=False)\n",
    "\n"
   ]
  },
  {
   "cell_type": "code",
   "execution_count": 20,
   "metadata": {
    "colab": {
     "base_uri": "https://localhost:8080/",
     "height": 352
    },
    "colab_type": "code",
    "id": "LTS75MwIywDw",
    "outputId": "a95d04e7-5f40-4b4c-ca0d-dfe7f6f785e5"
   },
   "outputs": [],
   "source": [
    "from sklearn.pipeline import Pipeline\n",
    "from sklearn.linear_model import LogisticRegression\n",
    "from sklearn.feature_extraction.text import TfidfVectorizer\n",
    "from sklearn.metrics import accuracy_score\n",
    "#from mylib.tokenizer import tokenizer, tokenizer_porter\n",
    "import pickle\n",
    "import os\n"
   ]
  },
  {
   "cell_type": "code",
   "execution_count": 21,
   "metadata": {},
   "outputs": [],
   "source": [
    "tfidf = TfidfVectorizer(lowercase=False, tokenizer=tokenizer)"
   ]
  },
  {
   "cell_type": "code",
   "execution_count": 22,
   "metadata": {
    "colab": {},
    "colab_type": "code",
    "id": "cx6rsKFgyvNN",
    "scrolled": true
   },
   "outputs": [],
   "source": [
    "lr_tfidf = Pipeline([('vect', tfidf), ('clf', LogisticRegression(C=10.0, penalty='l2', random_state=0))])"
   ]
  },
  {
   "cell_type": "code",
   "execution_count": 23,
   "metadata": {
    "colab": {},
    "colab_type": "code",
    "id": "sdzKn3dzyvMc",
    "scrolled": true
   },
   "outputs": [
    {
     "name": "stderr",
     "output_type": "stream",
     "text": [
      "C:\\ProgramData\\Anaconda3\\lib\\site-packages\\sklearn\\linear_model\\logistic.py:433: FutureWarning: Default solver will be changed to 'lbfgs' in 0.22. Specify a solver to silence this warning.\n",
      "  FutureWarning)\n"
     ]
    },
    {
     "data": {
      "text/plain": [
       "Pipeline(memory=None,\n",
       "     steps=[('vect', TfidfVectorizer(analyzer='word', binary=False, decode_error='strict',\n",
       "        dtype=<class 'numpy.float64'>, encoding='utf-8', input='content',\n",
       "        lowercase=False, max_df=1.0, max_features=None, min_df=1,\n",
       "        ngram_range=(1, 1), norm='l2', preprocessor=None, smooth_idf=True,...e, penalty='l2', random_state=0, solver='warn',\n",
       "          tol=0.0001, verbose=0, warm_start=False))])"
      ]
     },
     "execution_count": 23,
     "metadata": {},
     "output_type": "execute_result"
    }
   ],
   "source": [
    "lr_tfidf.fit(x_train, y_train)"
   ]
  },
  {
   "cell_type": "code",
   "execution_count": 24,
   "metadata": {},
   "outputs": [
    {
     "data": {
      "text/plain": [
       "0.9991491172091045"
      ]
     },
     "execution_count": 24,
     "metadata": {},
     "output_type": "execute_result"
    }
   ],
   "source": [
    "accuracy_score(lr_tfidf.predict(x_train), y_train)"
   ]
  },
  {
   "cell_type": "code",
   "execution_count": 25,
   "metadata": {
    "colab": {},
    "colab_type": "code",
    "id": "QBgJMeSCyvLm"
   },
   "outputs": [],
   "source": [
    "y_pred = lr_tfidf.predict(x_test)"
   ]
  },
  {
   "cell_type": "code",
   "execution_count": 27,
   "metadata": {
    "colab": {},
    "colab_type": "code",
    "id": "Ae8GCbwUyvDJ"
   },
   "outputs": [
    {
     "data": {
      "text/plain": [
       "0.8129032258064516"
      ]
     },
     "execution_count": 27,
     "metadata": {},
     "output_type": "execute_result"
    }
   ],
   "source": [
    "accuracy_score(y_test, y_pred)"
   ]
  },
  {
   "cell_type": "code",
   "execution_count": 30,
   "metadata": {},
   "outputs": [
    {
     "data": {
      "image/png": "[encoded data removed]",
      "text/plain": [
       "<Figure size 432x288 with 2 Axes>"
      ]
     },
     "metadata": {
      "needs_background": "light"
     },
     "output_type": "display_data"
    }
   ],
   "source": [
    "from sklearn.metrics import confusion_matrix\n",
    "from matplotlib import  pylab as plt\n",
    "import seaborn as sns\n",
    "\n",
    "cm = confusion_matrix(y_pred, y_test)\n",
    "sns.heatmap(cm, cmap=sns.light_palette(\n",
    "    \"navy\", as_cmap=True), annot=True, fmt=\"d\")\n",
    "plt.title(\"Confusion Matrix\")\n",
    "plt.show()\n"
   ]
  },
  {
   "cell_type": "code",
   "execution_count": null,
   "metadata": {},
   "outputs": [],
   "source": []
  }
 ],
 "metadata": {
  "colab": {
   "name": "project(1조) Logistic Regression.ipynb의 사본",
   "provenance": []
  },
  "kernelspec": {
   "display_name": "Python 3",
   "language": "python",
   "name": "python3"
  },
  "language_info": {
   "codemirror_mode": {
    "name": "ipython",
    "version": 3
   },
   "file_extension": ".py",
   "mimetype": "text/x-python",
   "name": "python",
   "nbconvert_exporter": "python",
   "pygments_lexer": "ipython3",
   "version": "3.7.1"
  }
 },
 "nbformat": 4,
 "nbformat_minor": 1
}
